{
 "cells": [
  {
   "cell_type": "code",
   "execution_count": null,
   "id": "c1b57c27-15b9-44b0-9bb0-78c9641de0bc",
   "metadata": {},
   "outputs": [],
   "source": [
    "def modify_weights(graph, edges_used, penalty=2):\n",
    "    for edge in edges_used:\n",
    "        if len(edge) == 3:\n",
    "            u, v, key = edge\n",
    "            graph[u][v][key]['length'] *= penalty\n",
    "        elif len(edge) == 2:\n",
    "            u, v = edge\n",
    "            graph[u][v][0]['length'] *= penalty\n",
    "        else:\n",
    "            pass"
   ]
  },
  {
   "cell_type": "code",
   "execution_count": null,
   "id": "e47efd89-3464-48c5-8060-81072b16d97a",
   "metadata": {},
   "outputs": [],
   "source": [
    "def generate_routes(graph, start, end, num_routes=15):\n",
    "    routes = []\n",
    "\n",
    "    for i in range(num_routes):\n",
    "        route = nx.shortest_path(graph, source=start, target=end, weight='length')\n",
    "        routes.append(route)\n",
    "\n",
    "        edges_used = list(zip(route[:-1], route[1:]))\n",
    "        modify_weights(graph, edges_used)\n",
    "    return routes"
   ]
  },
  {
   "cell_type": "code",
   "execution_count": null,
   "id": "bde03559-4c48-4e46-a102-007f20a395a3",
   "metadata": {},
   "outputs": [],
   "source": [
    "def calculate_overlap(route1, route2):\n",
    "    shared_edges = set(zip(route1[:-1], route1[1:])) & set(zip(route2[:-1], route2[1:]))\n",
    "    return len(shared_edges) / min(len(route1) - 1, len(route2) - 1)"
   ]
  },
  {
   "cell_type": "code",
   "execution_count": 6,
   "id": "9c7806b2-99be-4002-927b-52e9530e096b",
   "metadata": {},
   "outputs": [],
   "source": [
    "def random_color():\n",
    "    return \"#\"+''.join([random.choice('0123456789ABCDEF') for j in range(6)])"
   ]
  },
  {
   "cell_type": "code",
   "execution_count": null,
   "id": "a3945027-df04-49c9-8dda-9c4628e84839",
   "metadata": {},
   "outputs": [],
   "source": [
    "%matplotlib inline\n",
    "import osmnx as ox\n",
    "import networkx as nx\n",
    "import random\n",
    "\n",
    "ox.settings.overpass_endpoint = \"http://52.201.224.66:12345/api\"\n",
    "ox.settings.nominatim_endpoint = \"http://52.201.224.66:8080/\"\n",
    "\n",
    "place_name = \"Omaha, Nebraska, USA\"\n",
    "graph = ox.graph_from_place(place_name, network_type='drive')\n",
    "start = ox.distance.nearest_nodes(graph, X=-96.7000475297977, Y=40.82731943670903) \n",
    "end = ox.distance.nearest_nodes(graph, X=-96.01073894919081, Y=41.25902656723834) \n",
    "\n",
    "# Generate custom routes\n",
    "routes = generate_routes(graph, start, end)\n",
    "# for i in range(len(routes)):\n",
    "#    for j in range(i+1, len(routes)):\n",
    "#        overlap = calculate_overlap(routes[i], routes[j])\n",
    "#        print(f\"Overlap between route {i} and route {j}: {overlap:.2f}\")\n",
    "\n",
    "# Using built in k_shortest_paths\n",
    "# routesGen = ox.k_shortest_paths(graph, start, end, 15, weight='length')\n",
    "# routes = list(routesGen)\n",
    "\n",
    "\n",
    "num_routes = len(routes)\n",
    "colors = [random_color() for _ in range(num_routes)]\n",
    "\n",
    "ox.plot_graph_routes(graph, routes, figsize=(64, 64), route_linewidths=6, route_colors=colors, node_size=0, bgcolor='white')"
   ]
  },
  {
   "cell_type": "code",
   "execution_count": null,
   "id": "6f63956d-1660-48c2-819f-2dfdf37691f7",
   "metadata": {},
   "outputs": [],
   "source": []
  }
 ],
 "metadata": {
  "kernelspec": {
   "display_name": "Python 3 (ipykernel)",
   "language": "python",
   "name": "python3"
  },
  "language_info": {
   "codemirror_mode": {
    "name": "ipython",
    "version": 3
   },
   "file_extension": ".py",
   "mimetype": "text/x-python",
   "name": "python",
   "nbconvert_exporter": "python",
   "pygments_lexer": "ipython3",
   "version": "3.11.4"
  }
 },
 "nbformat": 4,
 "nbformat_minor": 5
}
