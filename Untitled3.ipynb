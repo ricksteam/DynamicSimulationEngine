{
 "cells": [
  {
   "cell_type": "code",
   "execution_count": 1,
   "id": "5b8aefc4-f48f-4124-899e-af22c6f99aaf",
   "metadata": {},
   "outputs": [],
   "source": [
    "def integrate_nbi_data(graph):\n",
    "    for u, v, key, data in graph.edges(keys=True, data=True):\n",
    "        if 'bridge' in data and data['bridge'] == 'yes':\n",
    "            data['length'] *= 2 "
   ]
  },
  {
   "cell_type": "code",
   "execution_count": 2,
   "id": "4d8d0f22-6911-4004-980c-8c303aa11e51",
   "metadata": {},
   "outputs": [],
   "source": [
    "def compute_routes(graph, start, end, num_routes, overlap_threshold=0.2):\n",
    "    routes = []\n",
    "    for _ in range(num_routes):\n",
    "        route = nx.shortest_path(graph, source=start, target=end, weight='length')\n",
    "        routes.append(route)\n",
    "        modify_weights(graph, route, penalty=1.5)\n",
    "    return routes"
   ]
  },
  {
   "cell_type": "code",
   "execution_count": 3,
   "id": "f37ca44e-0400-4382-8ebf-22f3f2c33fce",
   "metadata": {},
   "outputs": [],
   "source": [
    "def modify_weights(graph, route, penalty=10):\n",
    "    edge_subset = list(zip(route[:-1], route[1:]))\n",
    "    for (u, v) in edge_subset:\n",
    "        if graph.has_edge(u, v):\n",
    "            graph[u][v][0]['length'] *= penalty"
   ]
  },
  {
   "cell_type": "code",
   "execution_count": 4,
   "id": "1101cdcd-8fb8-45f1-a6e6-900b8fd725d4",
   "metadata": {},
   "outputs": [
    {
     "ename": "KeyboardInterrupt",
     "evalue": "",
     "output_type": "error",
     "traceback": [
      "\u001b[1;31m---------------------------------------------------------------------------\u001b[0m",
      "\u001b[1;31mKeyboardInterrupt\u001b[0m                         Traceback (most recent call last)",
      "Cell \u001b[1;32mIn[4], line 5\u001b[0m\n\u001b[0;32m      2\u001b[0m \u001b[38;5;28;01mimport\u001b[39;00m \u001b[38;5;21;01mnetworkx\u001b[39;00m \u001b[38;5;28;01mas\u001b[39;00m \u001b[38;5;21;01mnx\u001b[39;00m\n\u001b[0;32m      3\u001b[0m \u001b[38;5;28;01mimport\u001b[39;00m \u001b[38;5;21;01mrandom\u001b[39;00m\n\u001b[1;32m----> 5\u001b[0m graph \u001b[38;5;241m=\u001b[39m \u001b[43mox\u001b[49m\u001b[38;5;241;43m.\u001b[39;49m\u001b[43mgraph_from_xml\u001b[49m\u001b[43m(\u001b[49m\u001b[38;5;124;43m'\u001b[39;49m\u001b[38;5;124;43mNE-Merge-v1-1-formatted.osm\u001b[39;49m\u001b[38;5;124;43m'\u001b[39;49m\u001b[43m)\u001b[49m\n\u001b[0;32m      6\u001b[0m integrate_nbi_data(graph)\n\u001b[0;32m      8\u001b[0m start \u001b[38;5;241m=\u001b[39m random\u001b[38;5;241m.\u001b[39mchoice(\u001b[38;5;28mlist\u001b[39m(graph\u001b[38;5;241m.\u001b[39mnodes()))\n",
      "File \u001b[1;32m~\\miniconda3\\envs\\ox\\Lib\\site-packages\\osmnx\\graph.py:554\u001b[0m, in \u001b[0;36mgraph_from_xml\u001b[1;34m(filepath, bidirectional, simplify, retain_all)\u001b[0m\n\u001b[0;32m    551\u001b[0m response_jsons \u001b[38;5;241m=\u001b[39m [osm_xml\u001b[38;5;241m.\u001b[39m_overpass_json_from_file(filepath)]\n\u001b[0;32m    553\u001b[0m \u001b[38;5;66;03m# create graph using this response JSON\u001b[39;00m\n\u001b[1;32m--> 554\u001b[0m G \u001b[38;5;241m=\u001b[39m \u001b[43m_create_graph\u001b[49m\u001b[43m(\u001b[49m\u001b[43mresponse_jsons\u001b[49m\u001b[43m,\u001b[49m\u001b[43m \u001b[49m\u001b[43mbidirectional\u001b[49m\u001b[38;5;241;43m=\u001b[39;49m\u001b[43mbidirectional\u001b[49m\u001b[43m,\u001b[49m\u001b[43m \u001b[49m\u001b[43mretain_all\u001b[49m\u001b[38;5;241;43m=\u001b[39;49m\u001b[43mretain_all\u001b[49m\u001b[43m)\u001b[49m\n\u001b[0;32m    556\u001b[0m \u001b[38;5;66;03m# simplify the graph topology as the last step\u001b[39;00m\n\u001b[0;32m    557\u001b[0m \u001b[38;5;28;01mif\u001b[39;00m simplify:\n",
      "File \u001b[1;32m~\\miniconda3\\envs\\ox\\Lib\\site-packages\\osmnx\\graph.py:624\u001b[0m, in \u001b[0;36m_create_graph\u001b[1;34m(response_jsons, retain_all, bidirectional)\u001b[0m\n\u001b[0;32m    622\u001b[0m \u001b[38;5;66;03m# add each OSM node and way (a path of edges) to the graph\u001b[39;00m\n\u001b[0;32m    623\u001b[0m utils\u001b[38;5;241m.\u001b[39mlog(\u001b[38;5;124mf\u001b[39m\u001b[38;5;124m\"\u001b[39m\u001b[38;5;124mCreating graph from \u001b[39m\u001b[38;5;132;01m{\u001b[39;00m\u001b[38;5;28mlen\u001b[39m(nodes)\u001b[38;5;132;01m:\u001b[39;00m\u001b[38;5;124m,\u001b[39m\u001b[38;5;132;01m}\u001b[39;00m\u001b[38;5;124m OSM nodes and \u001b[39m\u001b[38;5;132;01m{\u001b[39;00m\u001b[38;5;28mlen\u001b[39m(paths)\u001b[38;5;132;01m:\u001b[39;00m\u001b[38;5;124m,\u001b[39m\u001b[38;5;132;01m}\u001b[39;00m\u001b[38;5;124m OSM ways...\u001b[39m\u001b[38;5;124m\"\u001b[39m)\n\u001b[1;32m--> 624\u001b[0m \u001b[43mG\u001b[49m\u001b[38;5;241;43m.\u001b[39;49m\u001b[43madd_nodes_from\u001b[49m\u001b[43m(\u001b[49m\u001b[43mnodes\u001b[49m\u001b[38;5;241;43m.\u001b[39;49m\u001b[43mitems\u001b[49m\u001b[43m(\u001b[49m\u001b[43m)\u001b[49m\u001b[43m)\u001b[49m\n\u001b[0;32m    625\u001b[0m _add_paths(G, paths\u001b[38;5;241m.\u001b[39mvalues(), bidirectional)\n\u001b[0;32m    627\u001b[0m \u001b[38;5;66;03m# retain only the largest connected component if retain_all=False\u001b[39;00m\n",
      "File \u001b[1;32m~\\miniconda3\\envs\\ox\\Lib\\site-packages\\networkx\\classes\\digraph.py:543\u001b[0m, in \u001b[0;36mDiGraph.add_nodes_from\u001b[1;34m(self, nodes_for_adding, **attr)\u001b[0m\n\u001b[0;32m    541\u001b[0m         \u001b[38;5;28;01mraise\u001b[39;00m \u001b[38;5;167;01mValueError\u001b[39;00m(\u001b[38;5;124m\"\u001b[39m\u001b[38;5;124mNone cannot be a node\u001b[39m\u001b[38;5;124m\"\u001b[39m)\n\u001b[0;32m    542\u001b[0m     \u001b[38;5;28mself\u001b[39m\u001b[38;5;241m.\u001b[39m_succ[n] \u001b[38;5;241m=\u001b[39m \u001b[38;5;28mself\u001b[39m\u001b[38;5;241m.\u001b[39madjlist_inner_dict_factory()\n\u001b[1;32m--> 543\u001b[0m     \u001b[38;5;28mself\u001b[39m\u001b[38;5;241m.\u001b[39m_pred[n] \u001b[38;5;241m=\u001b[39m \u001b[38;5;28mself\u001b[39m\u001b[38;5;241m.\u001b[39madjlist_inner_dict_factory()\n\u001b[0;32m    544\u001b[0m     \u001b[38;5;28mself\u001b[39m\u001b[38;5;241m.\u001b[39m_node[n] \u001b[38;5;241m=\u001b[39m \u001b[38;5;28mself\u001b[39m\u001b[38;5;241m.\u001b[39mnode_attr_dict_factory()\n\u001b[0;32m    545\u001b[0m \u001b[38;5;28mself\u001b[39m\u001b[38;5;241m.\u001b[39m_node[n]\u001b[38;5;241m.\u001b[39mupdate(newdict)\n",
      "\u001b[1;31mKeyboardInterrupt\u001b[0m: "
     ]
    }
   ],
   "source": [
    "import osmnx as ox\n",
    "import networkx as nx\n",
    "import random\n",
    "\n",
    "graph = ox.graph_from_xml('NE-Merge-v1-1-formatted.osm')\n",
    "integrate_nbi_data(graph)\n",
    "\n",
    "start = random.choice(list(graph.nodes()))\n",
    "end = random.choice(list(graph.nodes()))\n",
    "num_routes = 5\n",
    "routes = compute_routes(graph, start, end, num_routes)\n",
    "\n",
    "scores = [sum(graph[u][v][0]['length'] for u, v in zip(route[:-1], route[1:])) for route in routes]\n",
    "\n",
    "print(scores)\n",
    "\n",
    "colors = [plt.cm.plasma(score/max(scores)) for score in scores]\n",
    "ox.plot_graph_routes(graph, routes, route_colors=colors)"
   ]
  },
  {
   "cell_type": "code",
   "execution_count": null,
   "id": "2ddc268e-e558-4461-85a8-72889bb4eee0",
   "metadata": {},
   "outputs": [],
   "source": []
  }
 ],
 "metadata": {
  "kernelspec": {
   "display_name": "Python 3 (ipykernel)",
   "language": "python",
   "name": "python3"
  },
  "language_info": {
   "codemirror_mode": {
    "name": "ipython",
    "version": 3
   },
   "file_extension": ".py",
   "mimetype": "text/x-python",
   "name": "python",
   "nbconvert_exporter": "python",
   "pygments_lexer": "ipython3",
   "version": "3.11.4"
  }
 },
 "nbformat": 4,
 "nbformat_minor": 5
}
